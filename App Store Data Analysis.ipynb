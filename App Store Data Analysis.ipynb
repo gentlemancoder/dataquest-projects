{
 "cells": [
  {
   "cell_type": "markdown",
   "metadata": {},
   "source": [
    "# Profitability Assesment of Apps\n",
    "\n",
    "The objective of this project is to determine the profitability of free, ad-based apps for your production team. We will analyze the current market to find which apps appeal to the largest user base so that we can create new apps with the same appeal."
   ]
  },
  {
   "cell_type": "code",
   "execution_count": 1,
   "metadata": {
    "collapsed": false
   },
   "outputs": [
    {
     "name": "stdout",
     "output_type": "stream",
     "text": [
      "['id', 'track_name', 'size_bytes', 'currency', 'price', 'rating_count_tot', 'rating_count_ver', 'user_rating', 'user_rating_ver', 'ver', 'cont_rating', 'prime_genre', 'sup_devices.num', 'ipadSc_urls.num', 'lang.num', 'vpp_lic']\n",
      "\n",
      "\n",
      "['284882215', 'Facebook', '389879808', 'USD', '0.0', '2974676', '212', '3.5', '3.5', '95.0', '4+', 'Social Networking', '37', '1', '29', '1']\n",
      "\n",
      "\n",
      "['389801252', 'Instagram', '113954816', 'USD', '0.0', '2161558', '1289', '4.5', '4.0', '10.23', '12+', 'Photo & Video', '37', '0', '29', '1']\n",
      "\n",
      "\n",
      "['529479190', 'Clash of Clans', '116476928', 'USD', '0.0', '2130805', '579', '4.5', '4.5', '9.24.12', '9+', 'Games', '38', '5', '18', '1']\n",
      "\n",
      "\n",
      "['420009108', 'Temple Run', '65921024', 'USD', '0.0', '1724546', '3842', '4.5', '4.0', '1.6.2', '9+', 'Games', '40', '5', '1', '1']\n",
      "\n",
      "\n",
      "['App', 'Category', 'Rating', 'Reviews', 'Size', 'Installs', 'Type', 'Price', 'Content Rating', 'Genres', 'Last Updated', 'Current Ver', 'Android Ver']\n",
      "\n",
      "\n",
      "['Photo Editor & Candy Camera & Grid & ScrapBook', 'ART_AND_DESIGN', '4.1', '159', '19M', '10,000+', 'Free', '0', 'Everyone', 'Art & Design', 'January 7, 2018', '1.0.0', '4.0.3 and up']\n",
      "\n",
      "\n",
      "['Coloring book moana', 'ART_AND_DESIGN', '3.9', '967', '14M', '500,000+', 'Free', '0', 'Everyone', 'Art & Design;Pretend Play', 'January 15, 2018', '2.0.0', '4.0.3 and up']\n",
      "\n",
      "\n",
      "['U Launcher Lite – FREE Live Cool Themes, Hide Apps', 'ART_AND_DESIGN', '4.7', '87510', '8.7M', '5,000,000+', 'Free', '0', 'Everyone', 'Art & Design', 'August 1, 2018', '1.2.4', '4.0.3 and up']\n",
      "\n",
      "\n",
      "['Sketch - Draw & Paint', 'ART_AND_DESIGN', '4.5', '215644', '25M', '50,000,000+', 'Free', '0', 'Teen', 'Art & Design', 'June 8, 2018', 'Varies with device', '4.2 and up']\n",
      "\n",
      "\n"
     ]
    }
   ],
   "source": [
    "from csv import reader\n",
    "apple_data = list(reader((open('AppleStore.csv'))))\n",
    "google_data = list(reader(open('googleplaystore.csv')))\n",
    "\n",
    "def explore_data(dataset, start, end, rows_and_columns=False):\n",
    "    dataset_slice = dataset[start:end]    \n",
    "    for row in dataset_slice:\n",
    "        print(row)\n",
    "        print('\\n') # adds a new (empty) line after each row\n",
    "\n",
    "    if rows_and_columns:\n",
    "        print('Number of rows:', len(dataset))\n",
    "        print('Number of columns:', len(dataset[0]))\n",
    "        \n",
    "explore_data(apple_data, 0, 5)\n",
    "explore_data(google_data, 0, 5)"
   ]
  },
  {
   "cell_type": "code",
   "execution_count": 2,
   "metadata": {
    "collapsed": false
   },
   "outputs": [
    {
     "name": "stdout",
     "output_type": "stream",
     "text": [
      "13 13 12 13\n",
      "10473\n",
      "['App', 'Category', 'Rating', 'Reviews', 'Size', 'Installs', 'Type', 'Price', 'Content Rating', 'Genres', 'Last Updated', 'Current Ver', 'Android Ver'] \n",
      " ['Life Made WI-Fi Touchscreen Photo Frame', '1.9', '19', '3.0M', '1,000+', 'Free', '0', 'Everyone', '', 'February 11, 2018', '1.0.19', '4.0 and up']\n"
     ]
    }
   ],
   "source": [
    "print(len(google_data[10471]), len(google_data[10472]), len(google_data[10473]), len(google_data[10475]))\n",
    "\n",
    "for i in range(len(google_data)):\n",
    "    if len(google_data[i]) != 13:\n",
    "        print(i)\n",
    "\n",
    "print(google_data[0], '\\n', google_data[10473])"
   ]
  },
  {
   "cell_type": "code",
   "execution_count": 3,
   "metadata": {
    "collapsed": true
   },
   "outputs": [],
   "source": [
    "del google_data[10473]"
   ]
  },
  {
   "cell_type": "code",
   "execution_count": 4,
   "metadata": {
    "collapsed": false
   },
   "outputs": [
    {
     "name": "stdout",
     "output_type": "stream",
     "text": [
      "['App', 'Category', 'Rating', 'Reviews', 'Size', 'Installs', 'Type', 'Price', 'Content Rating', 'Genres', 'Last Updated', 'Current Ver', 'Android Ver'] \n",
      " ['osmino Wi-Fi: free WiFi', 'TOOLS', '4.2', '134203', '4.1M', '10,000,000+', 'Free', '0', 'Everyone', 'Tools', 'August 7, 2018', '6.06.14', '4.4 and up']\n"
     ]
    }
   ],
   "source": [
    "print(google_data[0], '\\n', google_data[10473])"
   ]
  },
  {
   "cell_type": "markdown",
   "metadata": {},
   "source": [
    "The following exploration shows that the Google apps dataset has  duplicate entries for many apps."
   ]
  },
  {
   "cell_type": "code",
   "execution_count": 5,
   "metadata": {
    "collapsed": false
   },
   "outputs": [
    {
     "name": "stdout",
     "output_type": "stream",
     "text": [
      "Number of duplicate apps: 1181\n",
      "\n",
      "\n",
      "Examples of duplicate apps: ['Quick PDF Scanner + OCR FREE', 'Box', 'Google My Business', 'ZOOM Cloud Meetings', 'join.me - Simple Meetings', 'Box', 'Zenefits', 'Google Ads', 'Google My Business', 'Slack', 'FreshBooks Classic', 'Insightly CRM', 'QuickBooks Accounting: Invoicing & Expenses', 'HipChat - Chat Built for Teams', 'Xero Accounting Software']\n"
     ]
    }
   ],
   "source": [
    "duplicate_android_apps = []\n",
    "unique_android_apps = []\n",
    "\n",
    "for app in google_data[1:]:\n",
    "    name = app[0]\n",
    "    if name in unique_android_apps:\n",
    "        duplicate_android_apps.append(name)\n",
    "    else:\n",
    "        unique_android_apps.append(name)\n",
    "\n",
    "print(\"Number of duplicate apps:\", len(duplicate_android_apps))\n",
    "print('\\n')\n",
    "print('Examples of duplicate apps:', duplicate_android_apps[:15])"
   ]
  },
  {
   "cell_type": "code",
   "execution_count": 6,
   "metadata": {
    "collapsed": false,
    "scrolled": true
   },
   "outputs": [
    {
     "name": "stdout",
     "output_type": "stream",
     "text": [
      "['ZOOM Cloud Meetings', 'BUSINESS', '4.4', '31614', '37M', '10,000,000+', 'Free', '0', 'Everyone', 'Business', 'July 20, 2018', '4.1.28165.0716', '4.0 and up']\n",
      "['ZOOM Cloud Meetings', 'BUSINESS', '4.4', '31614', '37M', '10,000,000+', 'Free', '0', 'Everyone', 'Business', 'July 20, 2018', '4.1.28165.0716', '4.0 and up']\n"
     ]
    }
   ],
   "source": [
    "for app in google_data:\n",
    "    if app[0] == 'ZOOM Cloud Meetings':\n",
    "        print(app)"
   ]
  },
  {
   "cell_type": "markdown",
   "metadata": {},
   "source": [
    "The Apple dataset is much cleaner, as the following exploration shows. It does have 2 duplicate entries, but they are for different versions of the same app, so they will not skew the data."
   ]
  },
  {
   "cell_type": "code",
   "execution_count": 7,
   "metadata": {
    "collapsed": false
   },
   "outputs": [
    {
     "name": "stdout",
     "output_type": "stream",
     "text": [
      "Number of duplicate apps: 2\n",
      "\n",
      "\n",
      "Here are the column headers for reference:\n",
      "['id', 'track_name', 'size_bytes', 'currency', 'price', 'rating_count_tot', 'rating_count_ver', 'user_rating', 'user_rating_ver', 'ver', 'cont_rating', 'prime_genre', 'sup_devices.num', 'ipadSc_urls.num', 'lang.num', 'vpp_lic']\n",
      "And here are the duplicate apps:\n",
      "\n",
      "['1173990889', 'Mannequin Challenge', '109705216', 'USD', '0.0', '668', '87', '3.0', '3.0', '1.4', '9+', 'Games', '37', '4', '1', '1']\n",
      "['952877179', 'VR Roller Coaster', '169523200', 'USD', '0.0', '107', '102', '3.5', '3.5', '2.0.0', '4+', 'Games', '37', '5', '1', '1']\n",
      "['1178454060', 'Mannequin Challenge', '59572224', 'USD', '0.0', '105', '58', '4.0', '4.5', '1.0.1', '4+', 'Games', '38', '5', '1', '1']\n",
      "['1089824278', 'VR Roller Coaster', '240964608', 'USD', '0.0', '67', '44', '3.5', '4.0', '0.81', '4+', 'Games', '38', '0', '1', '1']\n"
     ]
    }
   ],
   "source": [
    "duplicate_apple_apps = []\n",
    "unique_apple_apps = []\n",
    "\n",
    "for app in apple_data[1:]:\n",
    "    name = app[1]\n",
    "    if name in unique_apple_apps:\n",
    "        duplicate_apple_apps.append(name)\n",
    "    else:\n",
    "        unique_apple_apps.append(name)\n",
    "\n",
    "print(\"Number of duplicate apps:\", len(duplicate_apple_apps))\n",
    "print('\\n')\n",
    "print('Here are the column headers for reference:')\n",
    "print(apple_data[0])\n",
    "print('And here are the duplicate apps:\\n')\n",
    "\n",
    "for app in apple_data:\n",
    "    name = app[1]\n",
    "    if name in duplicate_apple_apps:\n",
    "        print(app)"
   ]
  },
  {
   "cell_type": "markdown",
   "metadata": {},
   "source": [
    "Back to the Google dataset, most of the duplicate entries are identical, but some of them have different numbers of reviews. To retain the entry with the highest number of reviews as we clean the data, we will first make a dictionary that retains the highest value of each review."
   ]
  },
  {
   "cell_type": "code",
   "execution_count": 8,
   "metadata": {
    "collapsed": false
   },
   "outputs": [
    {
     "name": "stdout",
     "output_type": "stream",
     "text": [
      "9659\n"
     ]
    }
   ],
   "source": [
    "reviews_max = {}\n",
    "\n",
    "for app in google_data[1:]:\n",
    "    name = app[0]\n",
    "    n_reviews = float(app[3])\n",
    "    if name in reviews_max and reviews_max[name] < n_reviews:\n",
    "        reviews_max[name] = n_reviews\n",
    "    if name not in reviews_max:\n",
    "        reviews_max[name] = n_reviews\n",
    "\n",
    "print(len(reviews_max))"
   ]
  },
  {
   "cell_type": "markdown",
   "metadata": {},
   "source": [
    "In the following cell we compare the rating of each entry to the highest rating for that app (from the above dictionary), and enter in into the clean data file. We compare every name to the already added list in order to ensure that duplicate entries with the same highest rating, (such as `'ZOOM Cloud Meetings'` above) are not added twice. Note that the number of entries matches the expected number as calculated above."
   ]
  },
  {
   "cell_type": "code",
   "execution_count": 9,
   "metadata": {
    "collapsed": false
   },
   "outputs": [
    {
     "name": "stdout",
     "output_type": "stream",
     "text": [
      "9659 9659\n"
     ]
    }
   ],
   "source": [
    "android_clean = []\n",
    "already_added = []\n",
    "\n",
    "for app in google_data[1:]:\n",
    "    name = app[0]\n",
    "    n_reviews = float(app[3])\n",
    "    \n",
    "    if n_reviews == reviews_max[name] and name not in already_added:\n",
    "        android_clean.append(app)\n",
    "        already_added.append(name)\n",
    "\n",
    "print(len(android_clean), len(already_added))"
   ]
  },
  {
   "cell_type": "markdown",
   "metadata": {},
   "source": [
    "We will now check the listing to remove all non-english apps. Here we create a checker function to remove all apps with more than 3 non-standard English characters."
   ]
  },
  {
   "cell_type": "code",
   "execution_count": 10,
   "metadata": {
    "collapsed": false
   },
   "outputs": [
    {
     "name": "stdout",
     "output_type": "stream",
     "text": [
      "True\n",
      "False\n",
      "True\n",
      "True\n"
     ]
    }
   ],
   "source": [
    "def english_checker(name):\n",
    "    counter = 0\n",
    "    for char in name:\n",
    "        if ord(char) > 127:\n",
    "            counter += 1\n",
    "        if counter > 3:\n",
    "            return False\n",
    "    return True\n",
    "\n",
    "print(english_checker('Instagram'))\n",
    "print(english_checker('爱奇艺PPS -《欢乐颂2》电视剧热播'))\n",
    "print(english_checker('Docs To Go™ Free Office Suite'))\n",
    "print(english_checker('Instachat 😜'))"
   ]
  },
  {
   "cell_type": "markdown",
   "metadata": {},
   "source": [
    "In the next two cells, we isolate the English apps and count them, and then isolate the free apps, and give a final count."
   ]
  },
  {
   "cell_type": "code",
   "execution_count": 11,
   "metadata": {
    "collapsed": false
   },
   "outputs": [
    {
     "name": "stdout",
     "output_type": "stream",
     "text": [
      "9614 6183\n"
     ]
    }
   ],
   "source": [
    "english_android_apps = []\n",
    "english_apple_apps = []\n",
    "\n",
    "for app in apple_data[1:]:\n",
    "    name = app[1]\n",
    "    if english_checker(name):\n",
    "        english_apple_apps.append(app)\n",
    "\n",
    "for app in android_clean:\n",
    "    name = app[0]\n",
    "    if english_checker(name):\n",
    "        english_android_apps.append(app)\n",
    "\n",
    "print(len(english_android_apps), len(english_apple_apps))"
   ]
  },
  {
   "cell_type": "code",
   "execution_count": 12,
   "metadata": {
    "collapsed": false
   },
   "outputs": [
    {
     "name": "stdout",
     "output_type": "stream",
     "text": [
      "8864 3222\n"
     ]
    }
   ],
   "source": [
    "free_android_apps = []\n",
    "free_apple_apps = []\n",
    "\n",
    "for app in english_android_apps:\n",
    "    \n",
    "    price = float(app[7].replace('$',''))\n",
    "    if price == 0:\n",
    "        free_android_apps.append(app)\n",
    "\n",
    "for app in english_apple_apps:\n",
    "    price = app[4].replace('$','')\n",
    "    price = float(price)\n",
    "    if price == 0:\n",
    "        free_apple_apps.append(app)\n",
    "        \n",
    "print(len(free_android_apps), len(free_apple_apps))"
   ]
  },
  {
   "cell_type": "markdown",
   "metadata": {},
   "source": [
    "Our recommened strategy is to start a basic app in the Android store, and then develop it further and port it to the Apple market. We will therefore inspect the datasets for a qualities that are popular in both markets."
   ]
  },
  {
   "cell_type": "code",
   "execution_count": 13,
   "metadata": {
    "collapsed": false
   },
   "outputs": [
    {
     "name": "stdout",
     "output_type": "stream",
     "text": [
      "Android Type\n",
      "{'TOOLS': 750, 'GAME': 862, 'BOOKS_AND_REFERENCE': 190, 'LIBRARIES_AND_DEMO': 83, 'PHOTOGRAPHY': 261, 'LIFESTYLE': 346, 'MEDICAL': 313, 'BUSINESS': 407, 'BEAUTY': 53, 'EVENTS': 63, 'VIDEO_PLAYERS': 159, 'ENTERTAINMENT': 85, 'EDUCATION': 103, 'SPORTS': 301, 'PERSONALIZATION': 294, 'SHOPPING': 199, 'COMICS': 55, 'AUTO_AND_VEHICLES': 82, 'HOUSE_AND_HOME': 73, 'COMMUNICATION': 287, 'DATING': 165, 'SOCIAL': 236, 'PARENTING': 58, 'HEALTH_AND_FITNESS': 273, 'WEATHER': 71, 'FINANCE': 328, 'MAPS_AND_NAVIGATION': 124, 'PRODUCTIVITY': 345, 'TRAVEL_AND_LOCAL': 207, 'FOOD_AND_DRINK': 110, 'NEWS_AND_MAGAZINES': 248, 'FAMILY': 1676, 'ART_AND_DESIGN': 57}\n",
      "Android Genres\n",
      "{'Arcade': 164, 'Lifestyle': 345, 'Entertainment;Action & Adventure': 3, 'Auto & Vehicles': 82, 'Role Playing;Pretend Play': 4, 'Action': 275, 'Tools;Education': 1, 'Arcade;Pretend Play': 1, 'Education;Action & Adventure': 3, 'Business': 407, 'Puzzle;Education': 1, 'Travel & Local;Action & Adventure': 1, 'Medical': 313, 'Books & Reference': 190, 'Casino': 38, 'Events': 63, 'Role Playing;Brain Games': 1, 'Strategy;Creativity': 1, 'Simulation;Pretend Play': 2, 'Art & Design;Creativity': 6, 'Entertainment': 538, 'Lifestyle;Pretend Play': 1, 'Simulation;Action & Adventure': 7, 'Casual;Brain Games': 12, 'Educational;Education': 35, 'Strategy': 81, 'Art & Design': 53, 'Lifestyle;Education': 1, 'Video Players & Editors': 157, 'Shopping': 199, 'Health & Fitness': 273, 'Travel & Local': 206, 'Racing;Pretend Play': 1, 'Music;Music & Video': 2, 'Social': 236, 'Adventure': 60, 'Art & Design;Action & Adventure': 1, 'Communication': 287, 'Trivia': 37, 'Card': 40, 'Card;Action & Adventure': 1, 'Simulation': 181, 'Parenting;Brain Games': 1, 'Education;Music & Video': 3, 'Board;Action & Adventure': 2, 'Sports': 307, 'Music & Audio;Music & Video': 1, 'Education;Creativity': 4, 'Puzzle;Creativity': 2, 'Casual;Music & Video': 1, 'Adventure;Education': 1, 'Music': 18, 'Health & Fitness;Education': 1, 'Strategy;Action & Adventure': 1, 'Educational;Brain Games': 6, 'Productivity': 345, 'Casual;Pretend Play': 21, 'Parenting': 44, 'Word': 23, 'News & Magazines': 248, 'Action;Action & Adventure': 9, 'Education': 474, 'Entertainment;Education': 1, 'Role Playing;Action & Adventure': 3, 'Personalization': 294, 'Education;Pretend Play': 5, 'Communication;Creativity': 1, 'Parenting;Education': 7, 'Entertainment;Brain Games': 7, 'Entertainment;Pretend Play': 2, 'Weather': 71, 'Educational;Pretend Play': 8, 'Strategy;Education': 1, 'Simulation;Education': 1, 'Role Playing': 83, 'Casual;Action & Adventure': 12, 'Puzzle': 100, 'Tools': 749, 'Racing;Action & Adventure': 15, 'Parenting;Music & Video': 6, 'Puzzle;Brain Games': 15, 'Beauty': 53, 'Books & Reference;Education': 1, 'Education;Education': 30, 'Art & Design;Pretend Play': 1, 'Board;Brain Games': 7, 'Food & Drink': 110, 'Education;Brain Games': 3, 'House & Home': 73, 'Educational;Action & Adventure': 3, 'Sports;Action & Adventure': 2, 'Educational;Creativity': 3, 'Casual;Education': 2, 'Adventure;Action & Adventure': 3, 'Casual;Creativity': 6, 'Health & Fitness;Action & Adventure': 1, 'Comics': 54, 'Entertainment;Creativity': 3, 'Dating': 165, 'Comics;Creativity': 1, 'Puzzle;Action & Adventure': 3, 'Maps & Navigation': 124, 'Educational': 33, 'Board': 34, 'Entertainment;Music & Video': 15, 'Arcade;Action & Adventure': 11, 'Video Players & Editors;Creativity': 1, 'Photography': 261, 'Racing': 88, 'Casual': 156, 'Trivia;Education': 1, 'Finance': 328, 'Video Players & Editors;Music & Video': 2, 'Libraries & Demo': 83}\n",
      "Apple Prime Genres\n",
      "{'Education': 118, 'Games': 1874, 'Social Networking': 106, 'Lifestyle': 51, 'Book': 14, 'Navigation': 6, 'Utilities': 81, 'Weather': 28, 'Business': 17, 'Catalogs': 4, 'Shopping': 84, 'Medical': 6, 'News': 43, 'Reference': 18, 'Music': 66, 'Entertainment': 254, 'Photo & Video': 160, 'Productivity': 56, 'Travel': 40, 'Finance': 36, 'Food & Drink': 26, 'Sports': 69, 'Health & Fitness': 65}\n"
     ]
    }
   ],
   "source": [
    "def frequency_finder(dataset, feature):\n",
    "    freq_dict = {}\n",
    "    \n",
    "    for app in dataset:\n",
    "        item = app[feature]\n",
    "        if item in freq_dict:\n",
    "            freq_dict[item] +=1\n",
    "        else:\n",
    "            freq_dict[item] =1\n",
    "    return freq_dict\n",
    "print('Android Type')\n",
    "print(frequency_finder(free_android_apps, 1))\n",
    "print('Android Genres')\n",
    "print(frequency_finder(free_android_apps, 9))\n",
    "print('Apple Prime Genres')\n",
    "print(frequency_finder(free_apple_apps, 11))"
   ]
  },
  {
   "cell_type": "code",
   "execution_count": 14,
   "metadata": {
    "collapsed": false
   },
   "outputs": [
    {
     "name": "stdout",
     "output_type": "stream",
     "text": [
      "\n",
      "Android Type\n",
      "\n",
      "FAMILY : 1676\n",
      "GAME : 862\n",
      "TOOLS : 750\n",
      "BUSINESS : 407\n",
      "LIFESTYLE : 346\n",
      "PRODUCTIVITY : 345\n",
      "FINANCE : 328\n",
      "MEDICAL : 313\n",
      "SPORTS : 301\n",
      "PERSONALIZATION : 294\n",
      "COMMUNICATION : 287\n",
      "HEALTH_AND_FITNESS : 273\n",
      "PHOTOGRAPHY : 261\n",
      "NEWS_AND_MAGAZINES : 248\n",
      "SOCIAL : 236\n",
      "TRAVEL_AND_LOCAL : 207\n",
      "SHOPPING : 199\n",
      "BOOKS_AND_REFERENCE : 190\n",
      "DATING : 165\n",
      "VIDEO_PLAYERS : 159\n",
      "MAPS_AND_NAVIGATION : 124\n",
      "FOOD_AND_DRINK : 110\n",
      "EDUCATION : 103\n",
      "ENTERTAINMENT : 85\n",
      "LIBRARIES_AND_DEMO : 83\n",
      "AUTO_AND_VEHICLES : 82\n",
      "HOUSE_AND_HOME : 73\n",
      "WEATHER : 71\n",
      "EVENTS : 63\n",
      "PARENTING : 58\n",
      "ART_AND_DESIGN : 57\n",
      "COMICS : 55\n",
      "BEAUTY : 53\n",
      "None\n",
      "\n",
      "Android Genres\n",
      "\n",
      "Tools : 749\n",
      "Entertainment : 538\n",
      "Education : 474\n",
      "Business : 407\n",
      "Productivity : 345\n",
      "Lifestyle : 345\n",
      "Finance : 328\n",
      "Medical : 313\n",
      "Sports : 307\n",
      "Personalization : 294\n",
      "Communication : 287\n",
      "Action : 275\n",
      "Health & Fitness : 273\n",
      "Photography : 261\n",
      "News & Magazines : 248\n",
      "Social : 236\n",
      "Travel & Local : 206\n",
      "Shopping : 199\n",
      "Books & Reference : 190\n",
      "Simulation : 181\n",
      "Dating : 165\n",
      "Arcade : 164\n",
      "Video Players & Editors : 157\n",
      "Casual : 156\n",
      "Maps & Navigation : 124\n",
      "Food & Drink : 110\n",
      "Puzzle : 100\n",
      "Racing : 88\n",
      "Role Playing : 83\n",
      "Libraries & Demo : 83\n",
      "Auto & Vehicles : 82\n",
      "Strategy : 81\n",
      "House & Home : 73\n",
      "Weather : 71\n",
      "Events : 63\n",
      "Adventure : 60\n",
      "Comics : 54\n",
      "Beauty : 53\n",
      "Art & Design : 53\n",
      "Parenting : 44\n",
      "Card : 40\n",
      "Casino : 38\n",
      "Trivia : 37\n",
      "Educational;Education : 35\n",
      "Board : 34\n",
      "Educational : 33\n",
      "Education;Education : 30\n",
      "Word : 23\n",
      "Casual;Pretend Play : 21\n",
      "Music : 18\n",
      "Racing;Action & Adventure : 15\n",
      "Puzzle;Brain Games : 15\n",
      "Entertainment;Music & Video : 15\n",
      "Casual;Brain Games : 12\n",
      "Casual;Action & Adventure : 12\n",
      "Arcade;Action & Adventure : 11\n",
      "Action;Action & Adventure : 9\n",
      "Educational;Pretend Play : 8\n",
      "Simulation;Action & Adventure : 7\n",
      "Parenting;Education : 7\n",
      "Entertainment;Brain Games : 7\n",
      "Board;Brain Games : 7\n",
      "Parenting;Music & Video : 6\n",
      "Educational;Brain Games : 6\n",
      "Casual;Creativity : 6\n",
      "Art & Design;Creativity : 6\n",
      "Education;Pretend Play : 5\n",
      "Role Playing;Pretend Play : 4\n",
      "Education;Creativity : 4\n",
      "Role Playing;Action & Adventure : 3\n",
      "Puzzle;Action & Adventure : 3\n",
      "Entertainment;Creativity : 3\n",
      "Entertainment;Action & Adventure : 3\n",
      "Educational;Creativity : 3\n",
      "Educational;Action & Adventure : 3\n",
      "Education;Music & Video : 3\n",
      "Education;Brain Games : 3\n",
      "Education;Action & Adventure : 3\n",
      "Adventure;Action & Adventure : 3\n",
      "Video Players & Editors;Music & Video : 2\n",
      "Sports;Action & Adventure : 2\n",
      "Simulation;Pretend Play : 2\n",
      "Puzzle;Creativity : 2\n",
      "Music;Music & Video : 2\n",
      "Entertainment;Pretend Play : 2\n",
      "Casual;Education : 2\n",
      "Board;Action & Adventure : 2\n",
      "Video Players & Editors;Creativity : 1\n",
      "Trivia;Education : 1\n",
      "Travel & Local;Action & Adventure : 1\n",
      "Tools;Education : 1\n",
      "Strategy;Education : 1\n",
      "Strategy;Creativity : 1\n",
      "Strategy;Action & Adventure : 1\n",
      "Simulation;Education : 1\n",
      "Role Playing;Brain Games : 1\n",
      "Racing;Pretend Play : 1\n",
      "Puzzle;Education : 1\n",
      "Parenting;Brain Games : 1\n",
      "Music & Audio;Music & Video : 1\n",
      "Lifestyle;Pretend Play : 1\n",
      "Lifestyle;Education : 1\n",
      "Health & Fitness;Education : 1\n",
      "Health & Fitness;Action & Adventure : 1\n",
      "Entertainment;Education : 1\n",
      "Communication;Creativity : 1\n",
      "Comics;Creativity : 1\n",
      "Casual;Music & Video : 1\n",
      "Card;Action & Adventure : 1\n",
      "Books & Reference;Education : 1\n",
      "Art & Design;Pretend Play : 1\n",
      "Art & Design;Action & Adventure : 1\n",
      "Arcade;Pretend Play : 1\n",
      "Adventure;Education : 1\n",
      "None\n",
      "\n",
      "Apple Prime Genres\n",
      "\n",
      "Games : 1874\n",
      "Entertainment : 254\n",
      "Photo & Video : 160\n",
      "Education : 118\n",
      "Social Networking : 106\n",
      "Shopping : 84\n",
      "Utilities : 81\n",
      "Sports : 69\n",
      "Music : 66\n",
      "Health & Fitness : 65\n",
      "Productivity : 56\n",
      "Lifestyle : 51\n",
      "News : 43\n",
      "Travel : 40\n",
      "Finance : 36\n",
      "Weather : 28\n",
      "Food & Drink : 26\n",
      "Reference : 18\n",
      "Business : 17\n",
      "Book : 14\n",
      "Navigation : 6\n",
      "Medical : 6\n",
      "Catalogs : 4\n",
      "None\n"
     ]
    }
   ],
   "source": [
    "def display_table(dataset, index):\n",
    "    table = frequency_finder(dataset, index)\n",
    "    table_display = []\n",
    "    for key in table:\n",
    "        key_val_as_tuple = (table[key], key)\n",
    "        table_display.append(key_val_as_tuple)\n",
    "\n",
    "    table_sorted = sorted(table_display, reverse = True)\n",
    "    for entry in table_sorted:\n",
    "        print(entry[1], ':', entry[0])\n",
    "\n",
    "print('\\nAndroid Type\\n')\n",
    "print(display_table(free_android_apps, 1))\n",
    "print('\\nAndroid Genres\\n')\n",
    "print(display_table(free_android_apps, 9))\n",
    "print('\\nApple Prime Genres\\n')\n",
    "print(display_table(free_apple_apps, 11))"
   ]
  },
  {
   "cell_type": "code",
   "execution_count": 19,
   "metadata": {
    "collapsed": false
   },
   "outputs": [
    {
     "name": "stdout",
     "output_type": "stream",
     "text": [
      "Education: 7003\n",
      "Games: 22788\n",
      "Social Networking: 71548\n",
      "Lifestyle: 16485\n",
      "Book: 39758\n",
      "Navigation: 86090\n",
      "Utilities: 18684\n",
      "Weather: 52279\n",
      "Business: 7491\n",
      "Catalogs: 4004\n",
      "Shopping: 26919\n",
      "Medical: 612\n",
      "News: 21248\n",
      "Reference: 74942\n",
      "Music: 57326\n",
      "Entertainment: 14029\n",
      "Photo & Video: 28441\n",
      "Productivity: 21028\n",
      "Travel: 28243\n",
      "Finance: 31467\n",
      "Food & Drink: 33333\n",
      "Sports: 23008\n",
      "Health & Fitness: 23298\n"
     ]
    }
   ],
   "source": [
    "apple_prime_genre = frequency_finder(free_apple_apps, 11)\n",
    "\n",
    "for genre in apple_prime_genre:\n",
    "    total = 0\n",
    "    len_genre = 0\n",
    "    \n",
    "    for app in free_apple_apps:\n",
    "        app_genre = app[11]\n",
    "        if app_genre == genre:\n",
    "            ratings = float(app[5])\n",
    "            total += ratings\n",
    "            len_genre += 1\n",
    "    \n",
    "    avg_installs = str(int(total // len_genre))\n",
    "    \n",
    "    print(genre +': ' + avg_installs)"
   ]
  },
  {
   "cell_type": "markdown",
   "metadata": {},
   "source": [
    "In the App store data it appears that these are most frequently rated categories, with over 50,000 reviews on average:\n",
    "1. Navigation \n",
    "2. Reference\n",
    "3. Social Networking\n",
    "4. Music\n",
    "5. Weather\n",
    "\n",
    "Based on this information, I would recommend a Navigation app that is linked to weather patterns as well as traffic patterns, or perhaps a app (or even a plugin for Waze) that changes the music being played based on traffic and weather."
   ]
  },
  {
   "cell_type": "markdown",
   "metadata": {},
   "source": [
    "Moving on to the Google Play store data:"
   ]
  },
  {
   "cell_type": "code",
   "execution_count": 43,
   "metadata": {
    "collapsed": false
   },
   "outputs": [
    {
     "name": "stdout",
     "output_type": "stream",
     "text": [
      "TOOLS: \t10801391\n",
      "GAME: \t15588015\n",
      "BOOKS_AND_REFERENCE: \t8767811\n",
      "LIBRARIES_AND_DEMO: \t638503\n",
      "PHOTOGRAPHY: \t17840110\n",
      "LIFESTYLE: \t1437816\n",
      "MEDICAL: \t120550\n",
      "BUSINESS: \t1712290\n",
      "BEAUTY: \t513151\n",
      "EVENTS: \t253542\n",
      "VIDEO_PLAYERS: \t24727872\n",
      "ENTERTAINMENT: \t11640705\n",
      "EDUCATION: \t1833495\n",
      "SPORTS: \t3638640\n",
      "PERSONALIZATION: \t5201482\n",
      "SHOPPING: \t7036877\n",
      "COMICS: \t817657\n",
      "AUTO_AND_VEHICLES: \t647317\n",
      "HOUSE_AND_HOME: \t1331540\n",
      "COMMUNICATION: \t38456119\n",
      "DATING: \t854028\n",
      "SOCIAL: \t23253652\n",
      "PARENTING: \t542603\n",
      "HEALTH_AND_FITNESS: \t4188821\n",
      "WEATHER: \t5074486\n",
      "FINANCE: \t1387692\n",
      "MAPS_AND_NAVIGATION: \t4056941\n",
      "PRODUCTIVITY: \t16787331\n",
      "TRAVEL_AND_LOCAL: \t13984077\n",
      "FOOD_AND_DRINK: \t1924897\n",
      "NEWS_AND_MAGAZINES: \t9549178\n",
      "FAMILY: \t3695641\n",
      "ART_AND_DESIGN: \t1986335\n",
      "\n",
      "\n",
      "\n",
      "\n",
      "TOOLS: 305732\n",
      "GAME: 683523\n",
      "BOOKS_AND_REFERENCE: 87995\n",
      "LIBRARIES_AND_DEMO: 10925\n",
      "PHOTOGRAPHY: 404081\n",
      "LIFESTYLE: 33921\n",
      "MEDICAL: 3730\n",
      "BUSINESS: 24239\n",
      "BEAUTY: 7476\n",
      "EVENTS: 2555\n",
      "VIDEO_PLAYERS: 425350\n",
      "ENTERTAINMENT: 301752\n",
      "EDUCATION: 56293\n",
      "SPORTS: 116938\n",
      "PERSONALIZATION: 181122\n",
      "SHOPPING: 223887\n",
      "COMICS: 42585\n",
      "AUTO_AND_VEHICLES: 14140\n",
      "HOUSE_AND_HOME: 26435\n",
      "COMMUNICATION: 995608\n",
      "DATING: 21953\n",
      "SOCIAL: 965830\n",
      "PARENTING: 16378\n",
      "HEALTH_AND_FITNESS: 78094\n",
      "WEATHER: 171250\n",
      "FINANCE: 38535\n",
      "MAPS_AND_NAVIGATION: 142860\n",
      "PRODUCTIVITY: 160634\n",
      "TRAVEL_AND_LOCAL: 129484\n",
      "FOOD_AND_DRINK: 57478\n",
      "NEWS_AND_MAGAZINES: 93088\n",
      "FAMILY: 113142\n",
      "ART_AND_DESIGN: 24699\n"
     ]
    }
   ],
   "source": [
    "android_type = frequency_finder(free_android_apps, 1)\n",
    "\n",
    "for cat in android_type:\n",
    "    total = 0\n",
    "    len_cat = 0\n",
    "    \n",
    "    for app in free_android_apps:\n",
    "        app_cat = app[1]\n",
    "        if app_cat == cat:\n",
    "            installs = int(app[5].replace('+','').replace(',',''))\n",
    "            total += installs\n",
    "            len_cat += 1\n",
    "    avg_installs = int(total / len_cat)\n",
    "    print(cat +': ' + '\\t' + str(avg_installs))\n",
    "\n",
    "print('\\n\\n\\n')\n",
    "\n",
    "for cat in android_type:\n",
    "    total = 0\n",
    "    len_cat = 0\n",
    "    \n",
    "    for app in free_android_apps:\n",
    "        app_cat = app[1]\n",
    "        if app_cat == cat:\n",
    "            reviews = int(app[3])\n",
    "            total += reviews\n",
    "            len_cat += 1\n",
    "    avg_reviews = int(total / len_cat)\n",
    "    print(cat +': ' + str(avg_reviews))\n",
    "    "
   ]
  },
  {
   "cell_type": "markdown",
   "metadata": {
    "collapsed": true
   },
   "source": [
    "According to the Android installs:\n",
    "1. Communication\n",
    "2. Social\n",
    "3. Entertainment\n",
    "4. Tools\n",
    "5. Games\n",
    "6. Photography\n",
    "\n",
    "After purusing this data it seems like a popular app that would cross platforms well would be a music sharing app.\n",
    "P"
   ]
  }
 ],
 "metadata": {
  "kernelspec": {
   "display_name": "Python 3",
   "language": "python",
   "name": "python3"
  },
  "language_info": {
   "codemirror_mode": {
    "name": "ipython",
    "version": 3
   },
   "file_extension": ".py",
   "mimetype": "text/x-python",
   "name": "python",
   "nbconvert_exporter": "python",
   "pygments_lexer": "ipython3",
   "version": "3.4.3"
  }
 },
 "nbformat": 4,
 "nbformat_minor": 2
}
