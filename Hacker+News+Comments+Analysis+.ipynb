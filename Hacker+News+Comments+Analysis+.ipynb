{
 "cells": [
  {
   "cell_type": "markdown",
   "metadata": {},
   "source": [
    "# Hacker New Blog Post Analysis\n",
    "\n",
    "Examines the HN posts to determin which kind get more comments."
   ]
  },
  {
   "cell_type": "code",
   "execution_count": 1,
   "metadata": {
    "collapsed": false
   },
   "outputs": [
    {
     "data": {
      "text/plain": [
       "[['id', 'title', 'url', 'num_points', 'num_comments', 'author', 'created_at'],\n",
       " ['12224879',\n",
       "  'Interactive Dynamic Video',\n",
       "  'http://www.interactivedynamicvideo.com/',\n",
       "  '386',\n",
       "  '52',\n",
       "  'ne0phyte',\n",
       "  '8/4/2016 11:52'],\n",
       " ['10975351',\n",
       "  'How to Use Open Source and Shut the Fuck Up at the Same Time',\n",
       "  'http://hueniverse.com/2016/01/26/how-to-use-open-source-and-shut-the-fuck-up-at-the-same-time/',\n",
       "  '39',\n",
       "  '10',\n",
       "  'josep2',\n",
       "  '1/26/2016 19:30'],\n",
       " ['11964716',\n",
       "  \"Florida DJs May Face Felony for April Fools' Water Joke\",\n",
       "  'http://www.thewire.com/entertainment/2013/04/florida-djs-april-fools-water-joke/63798/',\n",
       "  '2',\n",
       "  '1',\n",
       "  'vezycash',\n",
       "  '6/23/2016 22:20'],\n",
       " ['11919867',\n",
       "  'Technology ventures: From Idea to Enterprise',\n",
       "  'https://www.amazon.com/Technology-Ventures-Enterprise-Thomas-Byers/dp/0073523429',\n",
       "  '3',\n",
       "  '1',\n",
       "  'hswarna',\n",
       "  '6/17/2016 0:01']]"
      ]
     },
     "execution_count": 1,
     "metadata": {},
     "output_type": "execute_result"
    }
   ],
   "source": [
    "from csv import reader\n",
    "open_file = open('hacker_news.csv')\n",
    "\n",
    "read_file = reader(open_file)\n",
    "hn = list(read_file)\n",
    "\n",
    "hn[:5]"
   ]
  },
  {
   "cell_type": "code",
   "execution_count": 2,
   "metadata": {
    "collapsed": false
   },
   "outputs": [
    {
     "data": {
      "text/plain": [
       "[['12224879',\n",
       "  'Interactive Dynamic Video',\n",
       "  'http://www.interactivedynamicvideo.com/',\n",
       "  '386',\n",
       "  '52',\n",
       "  'ne0phyte',\n",
       "  '8/4/2016 11:52'],\n",
       " ['10975351',\n",
       "  'How to Use Open Source and Shut the Fuck Up at the Same Time',\n",
       "  'http://hueniverse.com/2016/01/26/how-to-use-open-source-and-shut-the-fuck-up-at-the-same-time/',\n",
       "  '39',\n",
       "  '10',\n",
       "  'josep2',\n",
       "  '1/26/2016 19:30'],\n",
       " ['11964716',\n",
       "  \"Florida DJs May Face Felony for April Fools' Water Joke\",\n",
       "  'http://www.thewire.com/entertainment/2013/04/florida-djs-april-fools-water-joke/63798/',\n",
       "  '2',\n",
       "  '1',\n",
       "  'vezycash',\n",
       "  '6/23/2016 22:20'],\n",
       " ['11919867',\n",
       "  'Technology ventures: From Idea to Enterprise',\n",
       "  'https://www.amazon.com/Technology-Ventures-Enterprise-Thomas-Byers/dp/0073523429',\n",
       "  '3',\n",
       "  '1',\n",
       "  'hswarna',\n",
       "  '6/17/2016 0:01'],\n",
       " ['10301696',\n",
       "  'Note by Note: The Making of Steinway L1037 (2007)',\n",
       "  'http://www.nytimes.com/2007/11/07/movies/07stein.html?_r=0',\n",
       "  '8',\n",
       "  '2',\n",
       "  'walterbell',\n",
       "  '9/30/2015 4:12']]"
      ]
     },
     "execution_count": 2,
     "metadata": {},
     "output_type": "execute_result"
    }
   ],
   "source": [
    "headers = hn[0]\n",
    "hn = hn[1:]\n",
    "\n",
    "hn[:5]"
   ]
  },
  {
   "cell_type": "markdown",
   "metadata": {},
   "source": [
    "Here we split the posts into ask posts, show posts, and other posts, so that we can compare the different categories, after which we count the total number of posts."
   ]
  },
  {
   "cell_type": "code",
   "execution_count": 3,
   "metadata": {
    "collapsed": false
   },
   "outputs": [
    {
     "name": "stdout",
     "output_type": "stream",
     "text": [
      "Totals\n",
      "Ask posts:  1744\n",
      "Show posts:  1162\n",
      "Other posts:  17194\n"
     ]
    }
   ],
   "source": [
    "ask_posts, show_posts, other_posts = [], [], []\n",
    "\n",
    "for row in hn:\n",
    "    title = row[1].lower()\n",
    "    if title.startswith('ask hn'):\n",
    "        ask_posts.append(row)\n",
    "    elif title.startswith('show hn'):\n",
    "        show_posts.append(row)\n",
    "    else:\n",
    "        other_posts.append(row)\n",
    "        \n",
    "print(\"Totals\")\n",
    "print(\"Ask posts: \", len(ask_posts))\n",
    "print(\"Show posts: \", len(show_posts))\n",
    "print(\"Other posts: \", len(other_posts))\n"
   ]
  },
  {
   "cell_type": "markdown",
   "metadata": {},
   "source": [
    "We now create a simple function to cycle through each type of post and get the average amount of comments per post."
   ]
  },
  {
   "cell_type": "code",
   "execution_count": 4,
   "metadata": {
    "collapsed": false
   },
   "outputs": [
    {
     "name": "stdout",
     "output_type": "stream",
     "text": [
      "Average amount of comments per post:\n",
      "Ask posts:  14.038417431192661\n",
      "Show posts:  10.31669535283993\n",
      "Other posts:  26.8730371059672\n"
     ]
    }
   ],
   "source": [
    "def avg_comments(posts):\n",
    "    total_comments = 0\n",
    "\n",
    "    for row in posts:\n",
    "        num_comments = int(row[4])\n",
    "        total_comments += num_comments\n",
    "    average = total_comments / len(posts)\n",
    "    return average\n",
    "\n",
    "print(\"Average amount of comments per post:\")\n",
    "print(\"Ask posts: \", avg_comments(ask_posts))\n",
    "print(\"Show posts: \", avg_comments(show_posts))\n",
    "print(\"Other posts: \", avg_comments(other_posts))"
   ]
  },
  {
   "cell_type": "markdown",
   "metadata": {},
   "source": [
    "The ask posts seem to generate more responses than the show posts. Interestingly enough, the other posts seem  to generate twice as many comments on average as ask and show posts. I guess people respond better when you are not looking for a reaction"
   ]
  },
  {
   "cell_type": "code",
   "execution_count": 38,
   "metadata": {
    "collapsed": false
   },
   "outputs": [],
   "source": [
    "import datetime as dt\n",
    "\n",
    "\n",
    "def find_avg_post_times(posts):\n",
    "    result_list = []\n",
    "    for row in posts:\n",
    "        created_at = row[6]\n",
    "        num_comments = int(row[4])\n",
    "        result_list.append([created_at, num_comments])\n",
    "   \n",
    "    counts_by_hour = {}\n",
    "    comments_by_hour = {}\n",
    "    \n",
    "    for row in result_list:\n",
    "        timestamp = row[0]\n",
    "        comments = row[1]\n",
    "        template = \"%m/%d/%Y %H:%M\"\n",
    "        time = dt.datetime.strptime(timestamp, template)\n",
    "        hour = time.strftime('%H')\n",
    "        \n",
    "        if hour not in counts_by_hour:\n",
    "            counts_by_hour[hour] = 1\n",
    "            comments_by_hour[hour] = comments\n",
    "        else:\n",
    "            counts_by_hour[hour] += 1\n",
    "            comments_by_hour[hour] += comments\n",
    "        \n",
    "    avg_by_hour = []\n",
    "    \n",
    "    for hour in counts_by_hour:\n",
    "        average_posts = comments_by_hour[hour] / counts_by_hour[hour]\n",
    "        avg_by_hour.append([average_posts, hour])\n",
    "    \n",
    "    return sorted(avg_by_hour, reverse=True)\n",
    "\n",
    "ask_avg_times = find_avg_post_times(ask_posts)\n",
    "show_avg_times = find_avg_post_times(show_posts)\n",
    "other_avg_times = find_avg_post_times(other_posts)\n",
    "total_avg_times = find_avg_post_times(hn)"
   ]
  },
  {
   "cell_type": "code",
   "execution_count": 39,
   "metadata": {
    "collapsed": false
   },
   "outputs": [
    {
     "name": "stdout",
     "output_type": "stream",
     "text": [
      "Top 5 Hours for Ask Posts Comments\n",
      "15:00: 38.59 average comments per post.\n",
      "02:00: 23.81 average comments per post.\n",
      "20:00: 21.52 average comments per post.\n",
      "16:00: 16.80 average comments per post.\n",
      "21:00: 16.01 average comments per post.\n",
      "\n",
      "\n",
      "Top 5 Hours for Show Posts Comments\n",
      "18:00: 15.77 average comments per post.\n",
      "00:00: 15.71 average comments per post.\n",
      "14:00: 13.44 average comments per post.\n",
      "23:00: 12.42 average comments per post.\n",
      "22:00: 12.39 average comments per post.\n",
      "\n",
      "\n",
      "Top 5 Hours for Other Posts Comments\n",
      "14:00: 32.33 average comments per post.\n",
      "13:00: 30.90 average comments per post.\n",
      "12:00: 30.35 average comments per post.\n",
      "11:00: 29.59 average comments per post.\n",
      "15:00: 29.52 average comments per post.\n",
      "\n",
      "\n",
      "Top 5 Hours for HN Posts Comments\n",
      "14:00: 29.14 average comments per post.\n",
      "15:00: 29.02 average comments per post.\n",
      "13:00: 27.73 average comments per post.\n",
      "12:00: 27.47 average comments per post.\n",
      "11:00: 27.12 average comments per post.\n",
      "\n",
      "\n"
     ]
    }
   ],
   "source": [
    "print(\"Top 5 Hours for Ask Posts Comments\")\n",
    "for row in ask_avg_times[:5]:\n",
    "    print(\"{}:00: {:.2f} average comments per post.\".format(row[1], row[0]))                     \n",
    "print(\"\\n\")\n",
    "\n",
    "print(\"Top 5 Hours for Show Posts Comments\")\n",
    "for row in show_avg_times[:5]:\n",
    "    print(\"{}:00: {:.2f} average comments per post.\".format(row[1], row[0]))                     \n",
    "print(\"\\n\")\n",
    "\n",
    "print(\"Top 5 Hours for Other Posts Comments\")\n",
    "for row in other_avg_times[:5]:\n",
    "    print(\"{}:00: {:.2f} average comments per post.\".format(row[1], row[0]))                     \n",
    "print(\"\\n\")\n",
    "\n",
    "print(\"Top 5 Hours for HN Posts Comments\")\n",
    "for row in total_avg_times[:5]:\n",
    "    print(\"{}:00: {:.2f} average comments per post.\".format(row[1], row[0]))                     \n",
    "print(\"\\n\")\n",
    "\n"
   ]
  }
 ],
 "metadata": {
  "kernelspec": {
   "display_name": "Python 3",
   "language": "python",
   "name": "python3"
  },
  "language_info": {
   "codemirror_mode": {
    "name": "ipython",
    "version": 3
   },
   "file_extension": ".py",
   "mimetype": "text/x-python",
   "name": "python",
   "nbconvert_exporter": "python",
   "pygments_lexer": "ipython3",
   "version": "3.4.3"
  }
 },
 "nbformat": 4,
 "nbformat_minor": 2
}
